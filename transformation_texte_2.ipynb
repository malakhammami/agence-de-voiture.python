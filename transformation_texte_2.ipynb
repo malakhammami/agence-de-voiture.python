{
  "nbformat": 4,
  "nbformat_minor": 0,
  "metadata": {
    "colab": {
      "provenance": []
    },
    "kernelspec": {
      "name": "python3",
      "display_name": "Python 3"
    },
    "language_info": {
      "name": "python"
    }
  },
  "cells": [
    {
      "cell_type": "code",
      "execution_count": null,
      "metadata": {
        "id": "NhxAYS1W1Xxx",
        "colab": {
          "base_uri": "https://localhost:8080/"
        },
        "outputId": "f7341b94-72e4-4f5d-9f0b-aad7d04ac59c"
      },
      "outputs": [
        {
          "output_type": "stream",
          "name": "stdout",
          "text": [
            "Mounted at /content/drive\n"
          ]
        }
      ],
      "source": [
        "from google.colab import drive\n",
        "drive.mount('/content/drive')"
      ]
    },
    {
      "cell_type": "code",
      "source": [
        "import nltk\n",
        "from nltk.corpus import stopwords\n",
        "from collections import Counter\n",
        "from nltk.tokenize import word_tokenize\n",
        "import pandas as pd\n",
        "from sklearn.feature_extraction.text import CountVectorizer"
      ],
      "metadata": {
        "id": "KxP4WQzw2VJn"
      },
      "execution_count": null,
      "outputs": []
    },
    {
      "cell_type": "code",
      "source": [
        "PATH = \"/content/drive/MyDrive/voitures_description.txt\""
      ],
      "metadata": {
        "id": "ERHFghGp2l-3"
      },
      "execution_count": null,
      "outputs": []
    },
    {
      "cell_type": "code",
      "source": [
        "#  lire un fichier texte à partir d'un chemin d'accès et de stocker son contenu dans une liste appelée Corpus.\n",
        "Corpus = []\n",
        "with open(PATH, 'r') as file:\n",
        "    for line in file:\n",
        "        Corpus.append(line)"
      ],
      "metadata": {
        "id": "wWNxrHFg2wHZ"
      },
      "execution_count": null,
      "outputs": []
    },
    {
      "cell_type": "code",
      "source": [
        "Corpus"
      ],
      "metadata": {
        "colab": {
          "base_uri": "https://localhost:8080/"
        },
        "id": "PY0IiuY7IXG6",
        "outputId": "7b33ed08-a18a-4fa6-b8f2-f73abe949ddc"
      },
      "execution_count": null,
      "outputs": [
        {
          "output_type": "execute_result",
          "data": {
            "text/plain": [
              "[\"La voiture que nous avons en stock est une berline de marque Toyota, modèle Corolla, année de fabrication 2020, avec un moteur 1,8 litre et une boîte de vitesses automatique. Elle a parcouru 25 000 kilomètres et est en excellent état. La carrosserie est de couleur blanche, avec des phares halogènes et des jantes en alliage. L'intérieur est en tissu noir et gris et dispose d'un système audio avec écran tactile, de la climatisation automatique et de plusieurs airbags. La voiture est proposée à un prix attractif et est disponible immédiatement.\\n\",\n",
              " '\\n',\n",
              " \"La voiture en question est une compacte de marque Honda, modèle Civic, année de fabrication 2018, avec un moteur 1,5 litre et une boîte de vitesses manuelle. Elle a parcouru 30 000 kilomètres et est en bon état général. La carrosserie est de couleur grise, avec des phares à LED et des jantes en alliage. L'intérieur est en tissu noir et dispose d'un système audio avec écran tactile, de la climatisation manuelle et d'un régulateur de vitesse. La voiture est proposée à un prix compétitif et est disponible immédiatement.\\n\",\n",
              " '\\n',\n",
              " \"Nous avons en stock une voiture de type SUV de marque Ford, modèle Escape, année de fabrication 2021, avec un moteur 2,0 litres turbo et une boîte de vitesses automatique à huit rapports. Elle a parcouru seulement 5 000 kilomètres et est en parfait état. La carrosserie est de couleur noire, avec des phares à LED et des jantes en alliage de 18 pouces. L'intérieur est en cuir noir et dispose d'un système audio haut de gamme, de la climatisation automatique à deux zones, d'un toit panoramique et d'un système de navigation. La voiture est proposée à un prix raisonnable et est disponible immédiatement.\\n\",\n",
              " '\\n',\n",
              " \"La voiture que nous proposons est une berline de marque Audi, modèle A4, année de fabrication 2019, avec un moteur 2,0 litres turbo et une boîte de vitesses automatique à sept rapports. Elle a parcouru 20 000 kilomètres et est en excellent état. La carrosserie est de couleur argentée, avec des phares à LED et des jantes en alliage de 18 pouces. L'intérieur est en cuir noir et dispose d'un système audio haut de gamme, de la climatisation automatique à trois zones, d'un toit ouvrant et d'un système de navigation. La voiture est proposée à un prix élevé mais justifié compte tenu de sa qualité.\\n\"]"
            ]
          },
          "metadata": {},
          "execution_count": 6
        }
      ]
    },
    {
      "cell_type": "code",
      "source": [
        "# Importer les stopwords de la langue anglaise\n",
        "nltk.download('stopwords')\n",
        "stop_words = set(stopwords.words('french'))"
      ],
      "metadata": {
        "colab": {
          "base_uri": "https://localhost:8080/"
        },
        "id": "W3SjBlVT3ClA",
        "outputId": "2e09c6e8-9b3a-49b4-a8af-b4cf24cb7da5"
      },
      "execution_count": null,
      "outputs": [
        {
          "output_type": "stream",
          "name": "stderr",
          "text": [
            "[nltk_data] Downloading package stopwords to /root/nltk_data...\n",
            "[nltk_data]   Unzipping corpora/stopwords.zip.\n"
          ]
        }
      ]
    },
    {
      "cell_type": "code",
      "source": [
        "#élécharger un modèle de données \n",
        "nltk.download('punkt')\n"
      ],
      "metadata": {
        "colab": {
          "base_uri": "https://localhost:8080/"
        },
        "id": "O3N5U-Pu3HwU",
        "outputId": "10a7a9cc-9081-4324-896d-12c8b8716703"
      },
      "execution_count": null,
      "outputs": [
        {
          "output_type": "stream",
          "name": "stderr",
          "text": [
            "[nltk_data] Downloading package punkt to /root/nltk_data...\n",
            "[nltk_data]   Unzipping tokenizers/punkt.zip.\n"
          ]
        },
        {
          "output_type": "execute_result",
          "data": {
            "text/plain": [
              "True"
            ]
          },
          "metadata": {},
          "execution_count": 8
        }
      ]
    },
    {
      "cell_type": "code",
      "source": [
        "#diviser le document en mots individuels \n",
        "def segmenter(document):\n",
        "    tokens = nltk.word_tokenize(document.lower())\n",
        "    return [token for token in tokens if token not in stop_words and token.isalpha()]"
      ],
      "metadata": {
        "id": "WPdZ_Y2wIk-n"
      },
      "execution_count": null,
      "outputs": []
    },
    {
      "cell_type": "code",
      "source": [
        "cv = CountVectorizer(tokenizer=segmenter)\n",
        "cv.fit(Corpus)\n",
        "X = cv.transform(Corpus)"
      ],
      "metadata": {
        "colab": {
          "base_uri": "https://localhost:8080/"
        },
        "id": "jgVjuQULInuX",
        "outputId": "9f21942e-ca99-4f91-a411-e79475d3dbc8"
      },
      "execution_count": null,
      "outputs": [
        {
          "output_type": "stream",
          "name": "stderr",
          "text": [
            "/usr/local/lib/python3.10/dist-packages/sklearn/feature_extraction/text.py:528: UserWarning: The parameter 'token_pattern' will not be used since 'tokenizer' is not None'\n",
            "  warnings.warn(\n"
          ]
        }
      ]
    },
    {
      "cell_type": "code",
      "source": [
        "# afficher le dictionnaire de vocabulaire créé à partir du corpus de texte\n",
        "print(cv.vocabulary_)\n",
        "print(X.toarray())"
      ],
      "metadata": {
        "colab": {
          "base_uri": "https://localhost:8080/"
        },
        "id": "HEziTUeDJHiU",
        "outputId": "6e26388a-96d2-4613-8768-63d57881a328"
      },
      "execution_count": 23,
      "outputs": [
        {
          "output_type": "stream",
          "name": "stdout",
          "text": [
            "{'voiture': 81, 'stock': 68, 'berline': 9, 'marque': 45, 'toyota': 75, 'modèle': 46, 'corolla': 19, 'année': 3, 'fabrication': 27, 'moteur': 47, 'litre': 42, 'boîte': 12, 'vitesses': 80, 'automatique': 8, 'a': 0, 'parcouru': 53, 'kilomètres': 40, 'excellent': 26, 'état': 85, 'carrosserie': 13, 'couleur': 20, 'blanche': 10, 'phares': 55, 'halogènes': 33, 'jantes': 38, 'alliage': 2, 'tissu': 73, 'noir': 49, 'gris': 30, 'dispose': 24, 'système': 70, 'audio': 7, 'écran': 83, 'tactile': 71, 'climatisation': 15, 'plusieurs': 56, 'airbags': 1, 'proposée': 60, 'prix': 58, 'attractif': 5, 'disponible': 23, 'immédiatement': 37, 'question': 62, 'compacte': 16, 'honda': 35, 'civic': 14, 'manuelle': 44, 'bon': 11, 'général': 32, 'grise': 31, 'led': 41, 'régulateur': 65, 'vitesse': 79, 'compétitif': 18, 'type': 78, 'suv': 69, 'ford': 28, 'escape': 25, 'litres': 43, 'turbo': 77, 'huit': 36, 'rapports': 64, 'seulement': 67, 'parfait': 54, 'noire': 50, 'pouces': 57, 'cuir': 21, 'haut': 34, 'gamme': 29, 'deux': 22, 'zones': 82, 'toit': 74, 'panoramique': 52, 'navigation': 48, 'raisonnable': 63, 'proposons': 59, 'audi': 6, 'sept': 66, 'argentée': 4, 'trois': 76, 'ouvrant': 51, 'élevé': 84, 'justifié': 39, 'compte': 17, 'tenu': 72, 'qualité': 61}\n",
            "[[1 1 1 1 0 1 0 1 2 1 1 0 1 1 0 1 0 0 0 1 1 0 0 1 1 0 1 1 0 0 1 0 0 1 0 0\n",
            "  0 1 1 0 1 0 1 0 0 1 1 1 0 1 0 0 0 1 0 1 1 0 1 0 1 0 0 0 0 0 0 0 1 0 1 1\n",
            "  0 1 0 1 0 0 0 0 1 2 0 1 0 1]\n",
            " [0 0 0 0 0 0 0 0 0 0 0 0 0 0 0 0 0 0 0 0 0 0 0 0 0 0 0 0 0 0 0 0 0 0 0 0\n",
            "  0 0 0 0 0 0 0 0 0 0 0 0 0 0 0 0 0 0 0 0 0 0 0 0 0 0 0 0 0 0 0 0 0 0 0 0\n",
            "  0 0 0 0 0 0 0 0 0 0 0 0 0 0]\n",
            " [1 0 1 1 0 0 0 1 0 0 0 1 1 1 1 1 1 0 1 0 1 0 0 1 1 0 0 1 0 0 0 1 1 0 0 1\n",
            "  0 1 1 0 1 1 1 0 2 1 1 1 0 1 0 0 0 1 0 1 0 0 1 0 1 0 1 0 0 1 0 0 0 0 1 1\n",
            "  0 1 0 0 0 0 0 1 1 2 0 1 0 1]\n",
            " [0 0 0 0 0 0 0 0 0 0 0 0 0 0 0 0 0 0 0 0 0 0 0 0 0 0 0 0 0 0 0 0 0 0 0 0\n",
            "  0 0 0 0 0 0 0 0 0 0 0 0 0 0 0 0 0 0 0 0 0 0 0 0 0 0 0 0 0 0 0 0 0 0 0 0\n",
            "  0 0 0 0 0 0 0 0 0 0 0 0 0 0]\n",
            " [1 0 1 1 0 0 0 1 2 0 0 0 1 1 0 1 0 0 0 0 1 1 1 1 1 1 0 1 1 1 0 0 0 0 1 0\n",
            "  1 1 1 0 1 1 0 1 0 1 1 1 1 1 1 0 1 1 1 1 0 1 1 0 1 0 0 1 1 0 0 1 1 1 2 0\n",
            "  0 0 1 0 0 1 1 0 1 2 1 0 0 1]\n",
            " [0 0 0 0 0 0 0 0 0 0 0 0 0 0 0 0 0 0 0 0 0 0 0 0 0 0 0 0 0 0 0 0 0 0 0 0\n",
            "  0 0 0 0 0 0 0 0 0 0 0 0 0 0 0 0 0 0 0 0 0 0 0 0 0 0 0 0 0 0 0 0 0 0 0 0\n",
            "  0 0 0 0 0 0 0 0 0 0 0 0 0 0]\n",
            " [1 0 1 1 1 0 1 1 2 1 0 0 1 1 0 1 0 1 0 0 1 1 0 0 1 0 1 1 0 1 0 0 0 0 1 0\n",
            "  0 0 1 1 1 1 0 1 0 1 1 1 1 1 0 1 0 1 0 1 0 1 1 1 1 1 0 0 1 0 1 0 0 0 2 0\n",
            "  1 0 1 0 1 1 0 0 1 2 1 0 1 1]]\n"
          ]
        }
      ]
    },
    {
      "cell_type": "code",
      "source": [
        "new_text = 'La voiture que nous proposons est une berline '\n",
        "new_text_vector = cv.transform([new_text])\n",
        "\n",
        "# the vector is a sparse matrix, so we convert it to a dense numpy array\n",
        "dense_vector = new_text_vector.toarray()\n",
        "\n",
        "print(dense_vector)"
      ],
      "metadata": {
        "id": "ppG8q4pv35AL",
        "colab": {
          "base_uri": "https://localhost:8080/"
        },
        "outputId": "33f788e4-49a2-4df4-beb4-2fcd6960cf90"
      },
      "execution_count": 24,
      "outputs": [
        {
          "output_type": "stream",
          "name": "stdout",
          "text": [
            "[[0 0 0 0 0 0 0 0 0 1 0 0 0 0 0 0 0 0 0 0 0 0 0 0 0 0 0 0 0 0 0 0 0 0 0 0\n",
            "  0 0 0 0 0 0 0 0 0 0 0 0 0 0 0 0 0 0 0 0 0 0 0 1 0 0 0 0 0 0 0 0 0 0 0 0\n",
            "  0 0 0 0 0 0 0 0 0 1 0 0 0 0]]\n"
          ]
        }
      ]
    }
  ]
}